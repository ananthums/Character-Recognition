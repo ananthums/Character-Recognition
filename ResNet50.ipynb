{
 "cells": [
  {
   "cell_type": "code",
   "execution_count": null,
   "metadata": {},
   "outputs": [],
   "source": [
    "import os\n",
    "# !pip install tensorflow\n",
    "# !pip install scikit-learn\n",
    "# !pip install opencv-python\n",
    "import cv2\n",
    "import tensorflow as tf\n",
    "from tensorflow.keras.preprocessing.image import ImageDataGenerator, load_img, img_to_array\n",
    "from tensorflow.keras.utils import to_categorical\n",
    "import numpy as np\n",
    "from sklearn.model_selection import train_test_split\n",
    "from sklearn.preprocessing import LabelEncoder\n",
    "from tensorflow.keras import layers, models, optimizers\n",
    "from sklearn.model_selection import GridSearchCV\n",
    "import matplotlib.pyplot as plt\n",
    "from sklearn.model_selection import ParameterGrid\n",
    "from tensorflow.keras.applications import ResNet50\n"
   ]
  },
  {
   "cell_type": "code",
   "execution_count": 2,
   "metadata": {},
   "outputs": [
    {
     "data": {
      "text/plain": [
       "43"
      ]
     },
     "execution_count": 2,
     "metadata": {},
     "output_type": "execute_result"
    }
   ],
   "source": [
    "# Set the path to the root folder containing subfolders for each character\n",
    "# root_folder = 'D:\\Personal\\zDocuments\\Lachu\\Project_MSc\\Data\\MalayalamHandwrittenDataset'\n",
    "root_folder = 'D:\\Personal\\zDocuments\\Lachu\\Project_MSc\\Data\\Data Dumps\\PREPROCESSING\\TestFolder'\n",
    "num_classes = len(os.listdir(root_folder))\n",
    "num_classes"
   ]
  },
  {
   "cell_type": "code",
   "execution_count": 4,
   "metadata": {},
   "outputs": [],
   "source": [
    "# Step 1: Read and Load the Data\n",
    "def load_data(root_folder):\n",
    "    data = []\n",
    "    labels = []\n",
    "    \n",
    "    for char_folder in os.listdir(root_folder):\n",
    "        char_path = os.path.join(root_folder, char_folder)\n",
    "        for img_file in os.listdir(char_path):\n",
    "            img_path = os.path.join(char_path, img_file)\n",
    "            # Read the image with alpha channel (transparency)\n",
    "            img = cv2.imread(img_path, cv2.IMREAD_UNCHANGED)\n",
    "            # img = cv2.resize(img, (224, 224))\n",
    "            img = img/255\n",
    "            img[img<1] = 0\n",
    "            data.append(img)\n",
    "            labels.append(char_folder)\n",
    "    return np.array(data), np.array(labels)"
   ]
  },
  {
   "cell_type": "code",
   "execution_count": 6,
   "metadata": {},
   "outputs": [],
   "source": [
    "# Step 2: Data Preprocessing\n",
    "data, labels = load_data(root_folder)\n",
    "\n",
    "# Label encode classes\n",
    "label_encoder = LabelEncoder()\n",
    "labels = label_encoder.fit_transform(labels)\n",
    "\n",
    "# Split the dataset into training, validation and testing sets\n",
    "# Split into training (80%) and testing (20%) sets\n",
    "X_train, X_test, y_train, y_test = train_test_split(data, labels, test_size=0.2, random_state=42)\n",
    "\n",
    "# Further split the training set into training (70%) and validation (10%) sets\n",
    "X_train, X_val, y_train, y_val = train_test_split(X_train, y_train, test_size=0.125, random_state=42)"
   ]
  },
  {
   "cell_type": "code",
   "execution_count": 7,
   "metadata": {},
   "outputs": [
    {
     "name": "stdout",
     "output_type": "stream",
     "text": [
      "Class 0: 167 images\n",
      "Class 1: 157 images\n",
      "Class 2: 163 images\n",
      "Class 3: 153 images\n",
      "Class 4: 142 images\n",
      "Class 5: 128 images\n",
      "Class 6: 123 images\n",
      "Class 7: 115 images\n",
      "Class 8: 127 images\n",
      "Class 9: 114 images\n",
      "Class 10: 108 images\n",
      "Class 11: 113 images\n",
      "Class 12: 104 images\n",
      "Class 13: 131 images\n",
      "Class 14: 118 images\n",
      "Class 15: 92 images\n",
      "Class 16: 122 images\n",
      "Class 17: 119 images\n",
      "Class 18: 136 images\n",
      "Class 19: 107 images\n",
      "Class 20: 108 images\n",
      "Class 21: 109 images\n",
      "Class 22: 116 images\n",
      "Class 23: 127 images\n",
      "Class 24: 102 images\n",
      "Class 25: 118 images\n",
      "Class 26: 128 images\n",
      "Class 27: 107 images\n",
      "Class 28: 110 images\n",
      "Class 29: 100 images\n",
      "Class 30: 100 images\n",
      "Class 31: 107 images\n",
      "Class 32: 92 images\n",
      "Class 33: 122 images\n",
      "Class 34: 119 images\n",
      "Class 35: 108 images\n",
      "Class 36: 93 images\n",
      "Class 37: 104 images\n",
      "Class 38: 87 images\n",
      "Class 39: 101 images\n",
      "Class 40: 100 images\n",
      "Class 41: 99 images\n",
      "Class 42: 95 images\n"
     ]
    }
   ],
   "source": [
    "# Print the number of images in each class\n",
    "unique_classes, counts = np.unique(y_train, return_counts=True)\n",
    "\n",
    "for cls, count in zip(unique_classes, counts):\n",
    "    print(f\"Class {cls}: {count} images\")"
   ]
  },
  {
   "cell_type": "code",
   "execution_count": 8,
   "metadata": {},
   "outputs": [
    {
     "data": {
      "image/png": "[encoded data removed]",
      "text/plain": [
       "<Figure size 200x200 with 1 Axes>"
      ]
     },
     "metadata": {},
     "output_type": "display_data"
    }
   ],
   "source": [
    "index  = 6\n",
    "plt.rcParams[\"figure.figsize\"] = (2,2)\n",
    "plt.imshow(X_train[index])  # Assuming the images are grayscale\n",
    "plt.title(f'Label: {y_train[index]}')  # Display the corresponding label\n",
    "plt.show()"
   ]
  },
  {
   "cell_type": "code",
   "execution_count": 48,
   "metadata": {},
   "outputs": [],
   "source": [
    "# Load the ResNet50 model pre-trained on ImageNet data\n",
    "model = ResNet50()\n",
    "# model = ResNet50(weights='imagenet')"
   ]
  },
  {
   "cell_type": "code",
   "execution_count": 49,
   "metadata": {},
   "outputs": [],
   "source": [
    "# Step 4: Compile the Model\n",
    "model.compile(optimizer='adam', loss='sparse_categorical_crossentropy', metrics=['accuracy'])"
   ]
  },
  {
   "cell_type": "code",
   "execution_count": 50,
   "metadata": {},
   "outputs": [
    {
     "name": "stdout",
     "output_type": "stream",
     "text": [
      "Epoch 1/10\n",
      "311/311 [==============================] - 895s 3s/step - loss: 0.8341 - accuracy: 0.7984 - val_loss: 15.2613 - val_accuracy: 0.0168\n",
      "Epoch 2/10\n",
      "311/311 [==============================] - 1679s 5s/step - loss: 0.1796 - accuracy: 0.9469 - val_loss: 14.0907 - val_accuracy: 0.0266\n",
      "Epoch 3/10\n",
      "311/311 [==============================] - 667s 2s/step - loss: 0.1164 - accuracy: 0.9688 - val_loss: 0.2908 - val_accuracy: 0.9034\n",
      "Epoch 4/10\n",
      "311/311 [==============================] - 1194s 4s/step - loss: 0.1108 - accuracy: 0.9696 - val_loss: 0.0923 - val_accuracy: 0.9790\n",
      "Epoch 5/10\n",
      "311/311 [==============================] - 1984s 6s/step - loss: 0.0637 - accuracy: 0.9855 - val_loss: 0.0734 - val_accuracy: 0.9804\n",
      "Epoch 6/10\n",
      "311/311 [==============================] - 2302s 7s/step - loss: 0.0657 - accuracy: 0.9833 - val_loss: 0.1559 - val_accuracy: 0.9594\n",
      "Epoch 7/10\n",
      "311/311 [==============================] - 1116s 4s/step - loss: 0.0543 - accuracy: 0.9831 - val_loss: 0.1441 - val_accuracy: 0.9510\n",
      "Epoch 8/10\n",
      "311/311 [==============================] - 938s 3s/step - loss: 0.0488 - accuracy: 0.9879 - val_loss: 0.0290 - val_accuracy: 0.9888\n",
      "Epoch 9/10\n",
      "311/311 [==============================] - 1050s 3s/step - loss: 0.0308 - accuracy: 0.9920 - val_loss: 0.2365 - val_accuracy: 0.9412\n",
      "Epoch 10/10\n",
      "311/311 [==============================] - 718s 2s/step - loss: 0.0797 - accuracy: 0.9779 - val_loss: 0.2720 - val_accuracy: 0.9440\n"
     ]
    }
   ],
   "source": [
    "# Create an instance of the ImageDataGenerator\n",
    "datagen = ImageDataGenerator(\n",
    "    rotation_range=0,      # Randomly rotate images by 0 to 20 degrees\n",
    "    width_shift_range=0.05,  # Randomly shift images horizontally by up to 20% of the width\n",
    "    height_shift_range=0.05, # Randomly shift images vertically by up to 20% of the height\n",
    "    shear_range=0.1,        # Shear intensity (shear angle in radians)\n",
    "    zoom_range=0.1,         # Randomly zoom into images by up to 20%\n",
    "    horizontal_flip=False,   # Randomly flip images horizontally\n",
    "    vertical_flip=False,     # Randomly flip images vertically\n",
    "    fill_mode='nearest'     # Strategy for filling in newly created pixels (e.g., 'nearest')\n",
    ")\n",
    "\n",
    "# Create a flow from the training data and labels\n",
    "# This will generate augmented images on-the-fly during training\n",
    "augmented_data_generator = datagen.flow(X_train, y_train, batch_size=16)\n",
    "\n",
    "# Step 5: Train the Model\n",
    "# Now you can use augmented_data_generator as your training data in model.fit\n",
    "history = model.fit(augmented_data_generator, epochs=10, steps_per_epoch=len(X_train)//16, batch_size=32, validation_data=(X_val, y_val))\n"
   ]
  },
  {
   "cell_type": "code",
   "execution_count": 51,
   "metadata": {},
   "outputs": [],
   "source": [
    "# history = model.fit(X_train, y_train, epochs=5, batch_size=32, validation_data=(X_val, y_val))"
   ]
  },
  {
   "cell_type": "code",
   "execution_count": 52,
   "metadata": {},
   "outputs": [
    {
     "name": "stdout",
     "output_type": "stream",
     "text": [
      "45/45 [==============================] - 92s 2s/step - loss: 0.2661 - accuracy: 0.9453\n",
      "Test accuracy: 0.9453398585319519\n"
     ]
    }
   ],
   "source": [
    "# Step 6: Evaluate the Model\n",
    "test_loss, test_acc = model.evaluate(X_test, y_test)\n",
    "print(f'Test accuracy: {test_acc}')"
   ]
  },
  {
   "cell_type": "code",
   "execution_count": 53,
   "metadata": {},
   "outputs": [
    {
     "name": "stdout",
     "output_type": "stream",
     "text": [
      "45/45 [==============================] - 92s 2s/step\n",
      "Character 0: Test Accuracy = 0.7931\n",
      "Character 1: Test Accuracy = 0.1509\n",
      "Character 2: Test Accuracy = 0.9778\n",
      "Character 3: Test Accuracy = 1.0000\n",
      "Character 4: Test Accuracy = 0.9767\n",
      "Character 5: Test Accuracy = 1.0000\n",
      "Character 6: Test Accuracy = 1.0000\n",
      "Character 7: Test Accuracy = 1.0000\n",
      "Character 8: Test Accuracy = 1.0000\n",
      "Character 9: Test Accuracy = 1.0000\n",
      "Character 10: Test Accuracy = 0.9722\n",
      "Character 11: Test Accuracy = 0.9429\n",
      "Character 12: Test Accuracy = 1.0000\n",
      "Character 13: Test Accuracy = 0.9722\n",
      "Character 14: Test Accuracy = 1.0000\n",
      "Character 15: Test Accuracy = 0.9600\n",
      "Character 16: Test Accuracy = 1.0000\n",
      "Character 17: Test Accuracy = 1.0000\n",
      "Character 18: Test Accuracy = 1.0000\n",
      "Character 19: Test Accuracy = 0.9706\n",
      "Character 20: Test Accuracy = 1.0000\n",
      "Character 21: Test Accuracy = 0.9310\n",
      "Character 22: Test Accuracy = 1.0000\n",
      "Character 23: Test Accuracy = 1.0000\n",
      "Character 24: Test Accuracy = 0.9643\n",
      "Character 25: Test Accuracy = 1.0000\n",
      "Character 26: Test Accuracy = 1.0000\n",
      "Character 27: Test Accuracy = 1.0000\n",
      "Character 28: Test Accuracy = 0.9667\n",
      "Character 29: Test Accuracy = 1.0000\n",
      "Character 30: Test Accuracy = 0.9259\n",
      "Character 31: Test Accuracy = 0.9545\n",
      "Character 32: Test Accuracy = 0.9677\n",
      "Character 33: Test Accuracy = 0.9630\n",
      "Character 34: Test Accuracy = 1.0000\n",
      "Character 35: Test Accuracy = 1.0000\n",
      "Character 36: Test Accuracy = 1.0000\n",
      "Character 37: Test Accuracy = 1.0000\n",
      "Character 38: Test Accuracy = 0.9048\n",
      "Character 39: Test Accuracy = 1.0000\n",
      "Character 40: Test Accuracy = 0.9231\n",
      "Character 41: Test Accuracy = 1.0000\n",
      "Character 42: Test Accuracy = 1.0000\n",
      "45/45 [==============================] - 90s 2s/step - loss: 0.2661 - accuracy: 0.9453\n",
      "\n",
      "Overall Test Accuracy: 0.9453\n"
     ]
    }
   ],
   "source": [
    "from sklearn.metrics import accuracy_score\n",
    "\n",
    "# Make predictions on the test set\n",
    "y_pred = model.predict(X_test)\n",
    "y_pred_classes = y_pred.argmax(axis=-1)\n",
    "\n",
    "# Calculate accuracy for each character\n",
    "accuracies = {}\n",
    "for char_label in set(y_test):\n",
    "    indices = (y_test == char_label)\n",
    "    accuracies[char_label] = accuracy_score(y_test[indices], y_pred_classes[indices])\n",
    "\n",
    "# Print accuracy for each character\n",
    "for char_label, accuracy in accuracies.items():\n",
    "    print(f'Character {char_label}: Test Accuracy = {accuracy:.4f}')\n",
    "\n",
    "# Overall test accuracy\n",
    "overall_test_loss, overall_test_acc = model.evaluate(X_test, y_test)\n",
    "print(f'\\nOverall Test Accuracy: {overall_test_acc:.4f}')\n"
   ]
  },
  {
   "cell_type": "code",
   "execution_count": 61,
   "metadata": {},
   "outputs": [
    {
     "name": "stdout",
     "output_type": "stream",
     "text": [
      "Top-3 Accuracy: 0.9902\n"
     ]
    }
   ],
   "source": [
    "num_classes = y_pred.shape[1]  # Get number of classes from y_pred shape\n",
    "y_test_one_hot = tf.keras.utils.to_categorical(y_test, num_classes)\n",
    "\n",
    "top_k_accuracy = tf.keras.metrics.TopKCategoricalAccuracy(k=4)\n",
    "top_k_accuracy.update_state(y_test_one_hot, y_pred)\n",
    "print(f\"Top-3 Accuracy: {top_k_accuracy.result().numpy():.4f}\")"
   ]
  },
  {
   "cell_type": "code",
   "execution_count": 55,
   "metadata": {},
   "outputs": [],
   "source": [
    "# Training: 97.93, Testing: 95.37, Top 2: 98.18, Top 3: 99.09, Top 4: 99.51, Top 5: 99.65\n",
    "\n",
    "# Training: 97.51, Testing: 97.96, Top 2: 99.44, Top 3: 99.65, Top 4: 99.65, Top 5: 99.79\n",
    "\n",
    "# Training: 98.43, Testing: 94.25, Top 2: 97.97, Top 3: 98.46, Top 4: 98.81, Top 5: 99.23\n",
    "\n",
    "# Training: 97.73, Testing: 94.53, Top 2: 98.25, Top 3: 98.88, Top 4: 99.02, Top 5: 99.03"
   ]
  },
  {
   "cell_type": "code",
   "execution_count": 56,
   "metadata": {},
   "outputs": [
    {
     "name": "stdout",
     "output_type": "stream",
     "text": [
      "True Character 0:\n",
      "    Predicted as Character 0: 46 times\n",
      "    Predicted as Character 14: 4 times\n",
      "    Predicted as Character 16: 8 times\n",
      "\n",
      "True Character 1:\n",
      "    Predicted as Character 1: 8 times\n",
      "    Predicted as Character 5: 4 times\n",
      "    Predicted as Character 11: 2 times\n",
      "    Predicted as Character 16: 39 times\n",
      "\n",
      "True Character 2:\n",
      "    Predicted as Character 2: 44 times\n",
      "    Predicted as Character 14: 1 times\n",
      "\n",
      "True Character 3:\n",
      "    Predicted as Character 3: 33 times\n",
      "\n",
      "True Character 4:\n",
      "    Predicted as Character 4: 42 times\n",
      "    Predicted as Character 16: 1 times\n",
      "\n",
      "True Character 5:\n",
      "    Predicted as Character 5: 46 times\n",
      "\n",
      "True Character 6:\n",
      "    Predicted as Character 6: 43 times\n",
      "\n",
      "True Character 7:\n",
      "    Predicted as Character 7: 35 times\n",
      "\n",
      "True Character 8:\n",
      "    Predicted as Character 8: 30 times\n",
      "\n",
      "True Character 9:\n",
      "    Predicted as Character 9: 33 times\n",
      "\n",
      "True Character 10:\n",
      "    Predicted as Character 10: 35 times\n",
      "    Predicted as Character 28: 1 times\n",
      "\n",
      "True Character 11:\n",
      "    Predicted as Character 11: 33 times\n",
      "    Predicted as Character 16: 2 times\n",
      "\n",
      "True Character 12:\n",
      "    Predicted as Character 12: 23 times\n",
      "\n",
      "True Character 13:\n",
      "    Predicted as Character 13: 35 times\n",
      "    Predicted as Character 28: 1 times\n",
      "\n",
      "True Character 14:\n",
      "    Predicted as Character 14: 38 times\n",
      "\n",
      "True Character 15:\n",
      "    Predicted as Character 15: 24 times\n",
      "    Predicted as Character 22: 1 times\n",
      "\n",
      "True Character 16:\n",
      "    Predicted as Character 16: 32 times\n",
      "\n",
      "True Character 17:\n",
      "    Predicted as Character 17: 47 times\n",
      "\n",
      "True Character 18:\n",
      "    Predicted as Character 18: 34 times\n",
      "\n",
      "True Character 19:\n",
      "    Predicted as Character 19: 33 times\n",
      "    Predicted as Character 20: 1 times\n",
      "\n",
      "True Character 20:\n",
      "    Predicted as Character 20: 33 times\n",
      "\n",
      "True Character 21:\n",
      "    Predicted as Character 16: 2 times\n",
      "    Predicted as Character 21: 27 times\n",
      "\n",
      "True Character 22:\n",
      "    Predicted as Character 22: 32 times\n",
      "\n",
      "True Character 23:\n",
      "    Predicted as Character 23: 29 times\n",
      "\n",
      "True Character 24:\n",
      "    Predicted as Character 6: 1 times\n",
      "    Predicted as Character 24: 27 times\n",
      "\n",
      "True Character 25:\n",
      "    Predicted as Character 25: 34 times\n",
      "\n",
      "True Character 26:\n",
      "    Predicted as Character 26: 23 times\n",
      "\n",
      "True Character 27:\n",
      "    Predicted as Character 27: 32 times\n",
      "\n",
      "True Character 28:\n",
      "    Predicted as Character 28: 29 times\n",
      "    Predicted as Character 31: 1 times\n",
      "\n",
      "True Character 29:\n",
      "    Predicted as Character 29: 30 times\n",
      "\n",
      "True Character 30:\n",
      "    Predicted as Character 19: 1 times\n",
      "    Predicted as Character 24: 1 times\n",
      "    Predicted as Character 30: 25 times\n",
      "\n",
      "True Character 31:\n",
      "    Predicted as Character 31: 21 times\n",
      "    Predicted as Character 38: 1 times\n",
      "\n",
      "True Character 32:\n",
      "    Predicted as Character 2: 1 times\n",
      "    Predicted as Character 32: 30 times\n",
      "\n",
      "True Character 33:\n",
      "    Predicted as Character 4: 1 times\n",
      "    Predicted as Character 33: 26 times\n",
      "\n",
      "True Character 34:\n",
      "    Predicted as Character 34: 28 times\n",
      "\n",
      "True Character 35:\n",
      "    Predicted as Character 35: 40 times\n",
      "\n",
      "True Character 36:\n",
      "    Predicted as Character 36: 27 times\n",
      "\n",
      "True Character 37:\n",
      "    Predicted as Character 37: 24 times\n",
      "\n",
      "True Character 38:\n",
      "    Predicted as Character 8: 1 times\n",
      "    Predicted as Character 34: 1 times\n",
      "    Predicted as Character 38: 19 times\n",
      "\n",
      "True Character 39:\n",
      "    Predicted as Character 39: 34 times\n",
      "\n",
      "True Character 40:\n",
      "    Predicted as Character 28: 2 times\n",
      "    Predicted as Character 40: 24 times\n",
      "\n",
      "True Character 41:\n",
      "    Predicted as Character 41: 26 times\n",
      "\n",
      "True Character 42:\n",
      "    Predicted as Character 42: 35 times\n",
      "\n"
     ]
    }
   ],
   "source": [
    "# Initialize a dictionary to store predicted classes and their counts for each true class\n",
    "predicted_counts = {char_label: {} for char_label in set(y_test)}\n",
    "\n",
    "# Count predictions for each true class\n",
    "for true_label in set(y_test):\n",
    "    true_indices = (y_test == true_label)\n",
    "    predicted_labels = y_pred_classes[true_indices]\n",
    "    \n",
    "    unique_predicted, counts_predicted = np.unique(predicted_labels, return_counts=True)\n",
    "    for pred_label, count in zip(unique_predicted, counts_predicted):\n",
    "        predicted_counts[true_label][pred_label] = count\n",
    "\n",
    "# Print predicted classes and their counts for each true class\n",
    "for true_label in sorted(predicted_counts.keys()):\n",
    "    print(f'True Character {true_label}:')\n",
    "    for pred_label, count in predicted_counts[true_label].items():\n",
    "        print(f'    Predicted as Character {pred_label}: {count} times')\n",
    "    print()"
   ]
  },
  {
   "cell_type": "code",
   "execution_count": 57,
   "metadata": {},
   "outputs": [
    {
     "data": {
      "image/png": "[encoded data removed]",
      "text/plain": [
       "<Figure size 600x200 with 1 Axes>"
      ]
     },
     "metadata": {},
     "output_type": "display_data"
    }
   ],
   "source": [
    "# Access accuracy values from the history object\n",
    "# train_acc = history.history['accuracy']\n",
    "val_acc = history.history['val_accuracy']\n",
    "plt.rcParams[\"figure.figsize\"] = (6,2)\n",
    "plt.plot(val_acc,color='purple',marker='^')\n",
    "# plt.legend(['Val Accuracy'])\n",
    "plt.xlabel('Epochs')\n",
    "plt.ylabel('Val Acc')\n",
    "plt.title('Validation Accuracy during Training')\n",
    "plt.show()"
   ]
  },
  {
   "cell_type": "code",
   "execution_count": 58,
   "metadata": {},
   "outputs": [
    {
     "data": {
      "image/png": "[encoded data removed]",
      "text/plain": [
       "<Figure size 600x200 with 1 Axes>"
      ]
     },
     "metadata": {},
     "output_type": "display_data"
    }
   ],
   "source": [
    "loss_val = history.history['val_loss']\n",
    "plt.rcParams[\"figure.figsize\"] = (6,2)\n",
    "plt.plot(loss_val,color='teal',marker='o')\n",
    "# plt.legend(['Validation Loss Accuracy'])\n",
    "plt.xlabel('Epochs')\n",
    "plt.ylabel('Val Loss')\n",
    "plt.title('Validation Loss during Training')\n",
    "plt.show()"
   ]
  },
  {
   "cell_type": "code",
   "execution_count": null,
   "metadata": {},
   "outputs": [],
   "source": []
  }
 ],
 "metadata": {
  "kernelspec": {
   "display_name": "Python 3",
   "language": "python",
   "name": "python3"
  },
  "language_info": {
   "codemirror_mode": {
    "name": "ipython",
    "version": 3
   },
   "file_extension": ".py",
   "mimetype": "text/x-python",
   "name": "python",
   "nbconvert_exporter": "python",
   "pygments_lexer": "ipython3",
   "version": "3.10.11"
  }
 },
 "nbformat": 4,
 "nbformat_minor": 2
}
