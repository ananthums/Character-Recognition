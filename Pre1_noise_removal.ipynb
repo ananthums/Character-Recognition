{
 "cells": [
  {
   "cell_type": "code",
   "execution_count": 1,
   "metadata": {},
   "outputs": [],
   "source": [
    "import os\n",
    "import cv2\n",
    "import numpy as np\n",
    "import matplotlib.pyplot as plt"
   ]
  },
  {
   "cell_type": "code",
   "execution_count": 3,
   "metadata": {},
   "outputs": [],
   "source": [
    "def remove_noise(image):\n",
    "    image_copy = image.copy()\n",
    "    gray = cv2.cvtColor(image_copy, cv2.COLOR_RGB2GRAY)\n",
    "    # Threshold the image to obtain a binary image (assuming characters are darker)\n",
    "    _, binary = cv2.threshold(gray, 0, 255, cv2.THRESH_BINARY + cv2.THRESH_OTSU)\n",
    "    # Find contours in the binary image\n",
    "    contours, _ = cv2.findContours(binary, cv2.RETR_EXTERNAL, cv2.CHAIN_APPROX_SIMPLE)\n",
    "    max_contour = max(contours, key=cv2.contourArea)\n",
    "    # Get the bounding box coordinates of the largest contour\n",
    "    x, y, w, h = cv2.boundingRect(max_contour)\n",
    "    # Create a mask with the same dimensions as the original image\n",
    "    mask = np.zeros_like(binary)\n",
    "\n",
    "    # Draw a filled rectangle corresponding to the bounding box on the mask\n",
    "    cv2.rectangle(mask, (x, y), (x + w, y + h), 255, cv2.FILLED)\n",
    "    # Apply the mask to the original binary image to retain only the largest contour\n",
    "    filtered_image = cv2.bitwise_and(binary, mask)\n",
    "    bgr_image = cv2.cvtColor(filtered_image, cv2.COLOR_GRAY2BGR)\n",
    "    bgr_image[bgr_image<255]=0\n",
    "    return bgr_image"
   ]
  },
  {
   "cell_type": "code",
   "execution_count": 5,
   "metadata": {},
   "outputs": [
    {
     "data": {
      "image/png": "[encoded data removed]",
      "text/plain": [
       "<Figure size 400x200 with 2 Axes>"
      ]
     },
     "metadata": {},
     "output_type": "display_data"
    }
   ],
   "source": [
    "img_path = 'D:\\Personal\\zDocuments\\Lachu\\Project_MSc\\Data\\CLEANED_DATA\\character_3334\\character_3334_149.png'\n",
    "img = cv2.imread(img_path, cv2.IMREAD_UNCHANGED)\n",
    "b, g, r, a = cv2.split(img)\n",
    "if np.all(a == 255):\n",
    "    rgb_image = cv2.merge([r, g, b])\n",
    "    rgb_image[rgb_image>0] = 255\n",
    "    rgb_image = 255 - rgb_image\n",
    "else:\n",
    "    rgb_image = cv2.merge([a, a, a])    # Assign alpha values to RGB channels\n",
    "    rgb_image[rgb_image<255]=0\n",
    "\n",
    "filtered = remove_noise(rgb_image)    \n",
    "\n",
    "# Create a figure with two subplots in a single row\n",
    "plt.figure(figsize=(4, 2))  # Adjust the figure size as needed\n",
    "\n",
    "# Plot image1 on the first subplot\n",
    "plt.subplot(1, 2, 1)  # (rows, columns, index)\n",
    "plt.imshow(rgb_image)\n",
    "plt.title('Original')\n",
    "\n",
    "# Plot image2 on the second subplot\n",
    "plt.subplot(1, 2, 2)\n",
    "plt.imshow(filtered)\n",
    "plt.title('After processing')\n",
    "\n",
    "# Adjust layout and display the plot\n",
    "plt.tight_layout()\n",
    "plt.show()\n"
   ]
  },
  {
   "cell_type": "code",
   "execution_count": 8,
   "metadata": {},
   "outputs": [
    {
     "name": "stdout",
     "output_type": "stream",
     "text": [
      "Noise removal process completed.\n"
     ]
    }
   ],
   "source": [
    "# # SKEW CORRECTION ALL IMAGES\n",
    "\n",
    "# # Input and output directories\n",
    "# input_folder = 'D:\\Personal\\zDocuments\\Lachu\\Project_MSc\\Data\\Data Dumps\\PREPROCESSING\\CLEANED_DATA'\n",
    "# output_folder = 'D:\\Personal\\zDocuments\\Lachu\\Project_MSc\\Data\\Data Dumps\\PREPROCESSING\\FILTERED'\n",
    "\n",
    "# # Traverse through directories and process images\n",
    "# for root, dirs, files in os.walk(input_folder):\n",
    "#     for subdir in dirs:\n",
    "#         input_subdir = os.path.join(root, subdir)\n",
    "#         output_subdir = os.path.join(output_folder, 'pre1_' + subdir)\n",
    "        \n",
    "#         # Create output subdirectory if it doesn't exist\n",
    "#         if not os.path.exists(output_subdir):\n",
    "#             os.makedirs(output_subdir)\n",
    "\n",
    "#         # Process images in the subdirectory\n",
    "#         for file in os.listdir(input_subdir):\n",
    "#             if file.endswith('.png') or file.endswith('.jpg'):\n",
    "#                 img_path = os.path.join(input_subdir, file)\n",
    "#                 output_image_path = os.path.join(output_subdir, 'pre1_' + file)\n",
    "#                 img = cv2.imread(img_path, cv2.IMREAD_UNCHANGED)\n",
    "#                 b, g, r, a = cv2.split(img)\n",
    "#                 if np.all(a == 255):\n",
    "#                     rgb_image = cv2.merge([r, g, b])\n",
    "#                     rgb_image[rgb_image>0] = 255\n",
    "#                     rgb_image = 255 - rgb_image\n",
    "#                 else:\n",
    "#                     rgb_image = cv2.merge([a, a, a])    # Assign alpha values to RGB channels\n",
    "#                     rgb_image[rgb_image<255]=0\n",
    "\n",
    "#                 # Detect and remove noise\n",
    "#                 corrected_image = remove_noise(rgb_image)\n",
    "#                 # Save the corrected image\n",
    "#                 cv2.imwrite(output_image_path, (corrected_image).astype(np.uint8))\n",
    "\n",
    "# print(\"Noise removal process completed.\")"
   ]
  }
 ],
 "metadata": {
  "kernelspec": {
   "display_name": "Python 3",
   "language": "python",
   "name": "python3"
  },
  "language_info": {
   "codemirror_mode": {
    "name": "ipython",
    "version": 3
   },
   "file_extension": ".py",
   "mimetype": "text/x-python",
   "name": "python",
   "nbconvert_exporter": "python",
   "pygments_lexer": "ipython3",
   "version": "3.10.11"
  }
 },
 "nbformat": 4,
 "nbformat_minor": 2
}
